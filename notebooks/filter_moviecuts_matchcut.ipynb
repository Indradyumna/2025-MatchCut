{
 "cells": [
  {
   "cell_type": "code",
   "execution_count": 1,
   "metadata": {},
   "outputs": [
    {
     "name": "stdout",
     "output_type": "stream",
     "text": [
      "/mnt/dog/data/indraroy15/2025-MatchCut\n"
     ]
    }
   ],
   "source": [
    "%cd .."
   ]
  },
  {
   "cell_type": "code",
   "execution_count": 2,
   "metadata": {},
   "outputs": [],
   "source": [
    "import sys\n",
    "sys.path.append('data/MovieCuts/src')"
   ]
  },
  {
   "cell_type": "code",
   "execution_count": 3,
   "metadata": {},
   "outputs": [],
   "source": [
    "\n",
    "config = {\n",
    "    'data': {\n",
    "        'videos_path': './data/MovieCuts/data/framed_clips', #NOTE:needs downloading \n",
    "        'cache_path': './.cache',\n",
    "        'shots_file_train': 'data/MovieCuts/data/annotated_clips_train.csv',\n",
    "        'shots_file_val': 'data/MovieCuts/data/annotated_clips_val.csv',\n",
    "        'cut_type_file_name_train': 'data/MovieCuts/data/cut-type-train.json',\n",
    "        'cut_type_file_name_val': 'data/MovieCuts/data/cut-type-val.json',\n",
    "        'cut_type_file_name_test': 'data/MovieCuts/data/cut-type-test.json',\n",
    "        'scale_h': 128,\n",
    "        'scale_w': 180,\n",
    "        'crop_size': 112,\n",
    "        'snippet_size': 16,\n",
    "        'num_classes': 10,\n",
    "        'window_sampling': 'fixed',\n",
    "        'distribution': 'natural',\n",
    "        'data_percent': 1,\n",
    "        'negative_portion': 0\n",
    "    },\n",
    "    'model': {\n",
    "        'visual_stream': True,\n",
    "        'audio_stream': True,\n",
    "        'num_visual_layers': 18,\n",
    "        'num_audio_layers': 18,\n",
    "        'abeta': 0.6,\n",
    "        'avbeta': 0.18,\n",
    "        'vbeta': 0.22\n",
    "    }\n",
    "}\n",
    "\n",
    "import argparse\n",
    "\n",
    "# recursively make the dict into argparse.Namespace object \n",
    "def dict_to_namespace(d):\n",
    "    if isinstance(d, dict):\n",
    "        d = argparse.Namespace(**{k: dict_to_namespace(v) for k, v in d.items()})\n",
    "    return d\n",
    "\n",
    "config = dict_to_namespace(config)\n",
    "\n",
    "\n",
    "\n"
   ]
  },
  {
   "cell_type": "code",
   "execution_count": 4,
   "metadata": {},
   "outputs": [],
   "source": [
    "\n",
    "from cut_type_dataset import CutTypeDataset\n",
    "\n",
    "val_dataset = CutTypeDataset([config.data.shots_file_train, config.data.shots_file_val],\n",
    "                config.data.cut_type_file_name_val,\n",
    "                videos_path=config.data.videos_path,\n",
    "                cache_path=config.data.cache_path,\n",
    "                visual_stream=config.model.visual_stream,\n",
    "                audio_stream=config.model.audio_stream,\n",
    "                sampling=config.data.window_sampling,\n",
    "                snippet_size=config.data.snippet_size,\n",
    "                transform=None,\n",
    "                negative_portion=config.data.negative_portion)\n",
    "\n",
    "test_dataset = CutTypeDataset([config.data.shots_file_train, config.data.shots_file_val],\n",
    "                config.data.cut_type_file_name_test,\n",
    "                videos_path=config.data.videos_path,\n",
    "                cache_path=config.data.cache_path,\n",
    "                visual_stream=config.model.visual_stream,\n",
    "                audio_stream=config.model.audio_stream,\n",
    "                sampling=config.data.window_sampling,\n",
    "                snippet_size=config.data.snippet_size,\n",
    "                transform=None,\n",
    "                negative_portion=config.data.negative_portion)\n",
    "\n",
    "train_dataset = CutTypeDataset([config.data.shots_file_train, config.data.shots_file_val],\n",
    "                config.data.cut_type_file_name_train,\n",
    "                videos_path=config.data.videos_path,\n",
    "                cache_path=config.data.cache_path,\n",
    "                visual_stream=config.model.visual_stream,\n",
    "                audio_stream=config.model.audio_stream,\n",
    "                sampling=config.data.window_sampling,\n",
    "                snippet_size=config.data.snippet_size,\n",
    "                data_percent=config.data.data_percent,\n",
    "                distribution=config.data.distribution,\n",
    "                transform=None,\n",
    "                negative_portion=config.data.negative_portion)"
   ]
  },
  {
   "cell_type": "code",
   "execution_count": 5,
   "metadata": {},
   "outputs": [
    {
     "data": {
      "text/plain": [
       "({'cut-on-action': 2542,\n",
       "  'cut-away': 1296,\n",
       "  'cross-cut': 1194,\n",
       "  'emphasis/deemphasis': 1538,\n",
       "  'match-cut': 93,\n",
       "  'smash-cut': 693,\n",
       "  'reaction-in/reaction-out-cut': 9192,\n",
       "  'l-cut': 1680,\n",
       "  'j-cut': 2082,\n",
       "  'speaker-change': 4889},\n",
       " {'cut-on-action': 5195,\n",
       "  'cut-away': 2534,\n",
       "  'cross-cut': 2413,\n",
       "  'emphasis/deemphasis': 3079,\n",
       "  'match-cut': 189,\n",
       "  'smash-cut': 1459,\n",
       "  'reaction-in/reaction-out-cut': 18156,\n",
       "  'l-cut': 3299,\n",
       "  'j-cut': 4055,\n",
       "  'speaker-change': 10364},\n",
       " {'cut-on-action': 17463,\n",
       "  'cut-away': 8152,\n",
       "  'cross-cut': 7332,\n",
       "  'emphasis/deemphasis': 10594,\n",
       "  'match-cut': 591,\n",
       "  'smash-cut': 4654,\n",
       "  'reaction-in/reaction-out-cut': 64774,\n",
       "  'l-cut': 11200,\n",
       "  'j-cut': 13955,\n",
       "  'speaker-change': 35449})"
      ]
     },
     "execution_count": 5,
     "metadata": {},
     "output_type": "execute_result"
    }
   ],
   "source": [
    "val_dataset.num_per_class ,test_dataset.num_per_class ,train_dataset.num_per_class "
   ]
  },
  {
   "cell_type": "code",
   "execution_count": 6,
   "metadata": {},
   "outputs": [
    {
     "data": {
      "text/plain": [
       "4"
      ]
     },
     "execution_count": 6,
     "metadata": {},
     "output_type": "execute_result"
    }
   ],
   "source": [
    "import numpy as np \n",
    "desired_cut_type = 'match-cut'\n",
    "desired_cut_type_label_idx = int((np.array(val_dataset.cut_types) == desired_cut_type).nonzero()[0][0])\n",
    "desired_cut_type_label_idx"
   ]
  },
  {
   "cell_type": "code",
   "execution_count": null,
   "metadata": {},
   "outputs": [],
   "source": [
    "import os\n",
    "target_folder =  f\"{config.data.videos_path}_{desired_cut_type}\"\n",
    "os.makedirs(target_folder, exist_ok=True)"
   ]
  },
  {
   "cell_type": "code",
   "execution_count": 8,
   "metadata": {},
   "outputs": [],
   "source": [
    "import shutil\n",
    "for ref in [train_dataset, val_dataset, test_dataset]:\n",
    "    \n",
    "    filtered_clip_names = [clip_name for clip_name in ref.clip_names if\\\n",
    "                        ref.cut_type_annotations[clip_name]['labels'][desired_cut_type_label_idx] == 1]\n",
    "    #Assert that the number of filtererd clips of the desired cut type is equal to the expected count\n",
    "    assert len(filtered_clip_names) == ref.num_per_class[desired_cut_type]\n",
    "\n",
    "    for clip_name in filtered_clip_names:\n",
    "        source_folder = os.path.join(config.data.videos_path, clip_name)\n",
    "        destination_folder = os.path.join(target_folder, clip_name)\n",
    "        if os.path.exists(source_folder):\n",
    "            if not os.path.exists(destination_folder):\n",
    "                shutil.copytree(source_folder, destination_folder)\n",
    "        else:\n",
    "            print(f\"Source folder {source_folder} does not exist.\")"
   ]
  },
  {
   "cell_type": "code",
   "execution_count": null,
   "metadata": {},
   "outputs": [
    {
     "data": {
      "text/plain": [
       "True"
      ]
     },
     "execution_count": 16,
     "metadata": {},
     "output_type": "execute_result"
    }
   ],
   "source": [
    "#Final count check \n",
    "import glob\n",
    "len(glob.glob(f\"{target_folder}/*\")) == (train_dataset.num_per_class[desired_cut_type]+\\\n",
    "                                         val_dataset.num_per_class[desired_cut_type]+\\\n",
    "                                         test_dataset.num_per_class[desired_cut_type])"
   ]
  },
  {
   "cell_type": "code",
   "execution_count": null,
   "metadata": {},
   "outputs": [],
   "source": []
  },
  {
   "cell_type": "code",
   "execution_count": null,
   "metadata": {},
   "outputs": [],
   "source": []
  }
 ],
 "metadata": {
  "kernelspec": {
   "display_name": "Python 3",
   "language": "python",
   "name": "python3"
  },
  "language_info": {
   "codemirror_mode": {
    "name": "ipython",
    "version": 3
   },
   "file_extension": ".py",
   "mimetype": "text/x-python",
   "name": "python",
   "nbconvert_exporter": "python",
   "pygments_lexer": "ipython3",
   "version": "3.11.11"
  }
 },
 "nbformat": 4,
 "nbformat_minor": 2
}
